{
 "nbformat": 4,
 "nbformat_minor": 2,
 "metadata": {
  "language_info": {
   "name": "python",
   "codemirror_mode": {
    "name": "ipython",
    "version": 3
   },
   "version": "3.7.4-final"
  },
  "orig_nbformat": 2,
  "file_extension": ".py",
  "mimetype": "text/x-python",
  "name": "python",
  "npconvert_exporter": "python",
  "pygments_lexer": "ipython3",
  "version": 3,
  "kernelspec": {
   "name": "python37464bitbasecondad3382e3e5c7c452ab9400fd3b42132fa",
   "display_name": "Python 3.7.4 64-bit ('base': conda)"
  }
 },
 "cells": [
  {
   "cell_type": "code",
   "execution_count": 1,
   "metadata": {},
   "outputs": [],
   "source": [
    "import torch\n",
    "from torchsummary import summary\n",
    "from model.net import Encoder, Decoder"
   ]
  },
  {
   "cell_type": "code",
   "execution_count": 2,
   "metadata": {},
   "outputs": [],
   "source": [
    "a = Decoder(features_num=1026,conv_dim=4).to(device=torch.device('cuda:0'))"
   ]
  },
  {
   "cell_type": "code",
   "execution_count": 4,
   "metadata": {},
   "outputs": [],
   "source": [
    "x = torch.randn((13,1026,1,1),device=torch.device('cuda:0'))"
   ]
  },
  {
   "cell_type": "code",
   "execution_count": 5,
   "metadata": {},
   "outputs": [],
   "source": [
    "y = a(x)"
   ]
  },
  {
   "cell_type": "code",
   "execution_count": 6,
   "metadata": {},
   "outputs": [
    {
     "data": {
      "text/plain": "torch.Size([13, 1, 128, 128])"
     },
     "execution_count": 6,
     "metadata": {},
     "output_type": "execute_result"
    }
   ],
   "source": [
    "y.shape"
   ]
  },
  {
   "cell_type": "code",
   "execution_count": 3,
   "metadata": {},
   "outputs": [
    {
     "name": "stdout",
     "output_type": "stream",
     "text": "----------------------------------------------------------------\n        Layer (type)               Output Shape         Param #\n================================================================\n   ConvTranspose2d-1            [-1, 128, 2, 2]       3,283,200\n       BatchNorm2d-2            [-1, 128, 2, 2]             256\n   ConvTranspose2d-3             [-1, 64, 4, 4]         204,800\n       BatchNorm2d-4             [-1, 64, 4, 4]             128\n   ConvTranspose2d-5             [-1, 32, 8, 8]          51,200\n       BatchNorm2d-6             [-1, 32, 8, 8]              64\n   ConvTranspose2d-7           [-1, 16, 16, 16]          12,800\n       BatchNorm2d-8           [-1, 16, 16, 16]              32\n   ConvTranspose2d-9            [-1, 8, 32, 32]           3,200\n      BatchNorm2d-10            [-1, 8, 32, 32]              16\n  ConvTranspose2d-11            [-1, 4, 64, 64]             800\n      BatchNorm2d-12            [-1, 4, 64, 64]               8\n  ConvTranspose2d-13          [-1, 1, 128, 128]             100\n================================================================\nTotal params: 3,556,604\nTrainable params: 3,556,604\nNon-trainable params: 0\n----------------------------------------------------------------\nInput size (MB): 0.00\nForward/backward pass size (MB): 0.62\nParams size (MB): 13.57\nEstimated Total Size (MB): 14.19\n----------------------------------------------------------------\n"
    }
   ],
   "source": [
    "summary(a, input_size=(1026,1,1))"
   ]
  },
  {
   "cell_type": "code",
   "execution_count": null,
   "metadata": {},
   "outputs": [],
   "source": []
  }
 ]
}